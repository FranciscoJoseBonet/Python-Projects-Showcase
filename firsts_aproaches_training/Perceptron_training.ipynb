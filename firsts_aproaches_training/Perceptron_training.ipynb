{
  "nbformat": 4,
  "nbformat_minor": 0,
  "metadata": {
    "colab": {
      "provenance": []
    },
    "kernelspec": {
      "name": "python3",
      "display_name": "Python 3"
    },
    "language_info": {
      "name": "python"
    }
  },
  "cells": [
    {
      "cell_type": "markdown",
      "source": [
        "<div class='alert alert-success text-center'>\n",
        "  <h1>Entrenamiento de un Perceptrón</h1>\n",
        "</div>"
      ],
      "metadata": {
        "id": "SqUwSYxM6d74"
      }
    },
    {
      "cell_type": "markdown",
      "source": [
        "***Definición de funciones, parámetros y preparación de datos***"
      ],
      "metadata": {
        "id": "3c0PbroD6VmF"
      }
    },
    {
      "cell_type": "code",
      "execution_count": null,
      "metadata": {
        "id": "wCUVSVvR5DQ1"
      },
      "outputs": [],
      "source": [
        "#Parámetros iniciales\n",
        "pesos = [0.2, -0.33, 0.05]\n",
        "tasa_aprendizaje = 0.01\n",
        "epocas = 2\n",
        "\n",
        "#Funcion de activacion:\n",
        "def fun_activacion(x):\n",
        "        return 1 if x>0 else -1\n",
        "\n",
        "#Mapeamos o definimos los elementos 'setosa' y 'versicolor' para las salidas de la funcion del perceptrón, 1 y -1\n",
        "mapping={'setosa':1, 'versicolor':-1}\n",
        "\n",
        "trainig_data={                                  #Creamos el diccionario con los datos del entrenamiento\n",
        "        'Longitud del sépalo (cm)': [5.1, 4.9, 4.7, 4.6, 5.0, 5.7, 6.2, 5.7, 5.1, 5.7],\n",
        "        'Longitud del pétalo (cm)': [1.4, 1.4, 1.3, 1.5, 1.4, 4.2, 4.3, 4.5, 3.0, 4.1],\n",
        "        'Clase': ['setosa', 'setosa', 'setosa', 'setosa', 'setosa', 'versicolor', 'versicolor', 'versicolor', 'versicolor', 'versicolor']\n",
        "}\n",
        "\n",
        "#Creamos la lista que se va a usar para el entrenamiento a partir de la informacion en el diccionario:\n",
        "#(el primero es uno porque es el quien se calcula con el bias)\n",
        "p=[[1,trainig_data['Longitud del sépalo (cm)'][i],trainig_data['Longitud del pétalo (cm)'][i]] for i in range(len(trainig_data['Longitud del sépalo (cm)']))] #### ENTRADAS\n",
        "\n",
        "#Cruzamos el mapeo con las clases en el diccionario de informacion\n",
        "q=[mapping[clase] for clase in trainig_data['Clase']] #### SALIDAS\n",
        "\n"
      ]
    },
    {
      "cell_type": "markdown",
      "source": [
        "***Entrenamiento***"
      ],
      "metadata": {
        "id": "vY6Va2A47ZL4"
      }
    },
    {
      "cell_type": "code",
      "source": [
        "for epoca in range(epocas):\n",
        "    print(f'\\nEpoca: {epoca+1}')\n",
        "    for i, x in enumerate(p):\n",
        "        salida_lineal=sum(w*xi for w,xi in zip(pesos,x)) #Hacemos el calculo de la salida del perceptrón para cada elemento con los pesos y el bias indicados\n",
        "        respuesta=fun_activacion(salida_lineal) #Aplicamos la funcion de activacion para la salida del perceptrón con los i datos\n",
        "        error=q[i]-respuesta\n",
        "        if error!=0: #Vemos si existe algun error\n",
        "            pesos=[w+tasa_aprendizaje*error*xi for w,xi in zip(pesos,x)] #Si es asi, actualizamos los pesos\n",
        "        print(f\"Dato número: {i + 1}: Referencia = {respuesta}, Error = {error}, Pesos = {pesos}\")\n"
      ],
      "metadata": {
        "colab": {
          "base_uri": "https://localhost:8080/"
        },
        "id": "fqIOYIM-6HMS",
        "outputId": "5e64e7b4-9c2f-4e62-cc9c-16e891d48c36"
      },
      "execution_count": null,
      "outputs": [
        {
          "output_type": "stream",
          "name": "stdout",
          "text": [
            "\n",
            "Epoca: 1\n",
            "Dato número: 1: Referencia = -1, Error = 2, Pesos = [0.22, -0.22800000000000004, 0.078]\n",
            "Dato número: 2: Referencia = -1, Error = 2, Pesos = [0.24, -0.13000000000000003, 0.106]\n",
            "Dato número: 3: Referencia = -1, Error = 2, Pesos = [0.26, -0.03600000000000003, 0.132]\n",
            "Dato número: 4: Referencia = 1, Error = 0, Pesos = [0.26, -0.03600000000000003, 0.132]\n",
            "Dato número: 5: Referencia = 1, Error = 0, Pesos = [0.26, -0.03600000000000003, 0.132]\n",
            "Dato número: 6: Referencia = 1, Error = -2, Pesos = [0.24000000000000002, -0.15000000000000002, 0.048]\n",
            "Dato número: 7: Referencia = -1, Error = 0, Pesos = [0.24000000000000002, -0.15000000000000002, 0.048]\n",
            "Dato número: 8: Referencia = -1, Error = 0, Pesos = [0.24000000000000002, -0.15000000000000002, 0.048]\n",
            "Dato número: 9: Referencia = -1, Error = 0, Pesos = [0.24000000000000002, -0.15000000000000002, 0.048]\n",
            "Dato número: 10: Referencia = -1, Error = 0, Pesos = [0.24000000000000002, -0.15000000000000002, 0.048]\n",
            "\n",
            "Epoca: 2\n",
            "Dato número: 1: Referencia = -1, Error = 2, Pesos = [0.26, -0.04800000000000003, 0.076]\n",
            "Dato número: 2: Referencia = 1, Error = 0, Pesos = [0.26, -0.04800000000000003, 0.076]\n",
            "Dato número: 3: Referencia = 1, Error = 0, Pesos = [0.26, -0.04800000000000003, 0.076]\n",
            "Dato número: 4: Referencia = 1, Error = 0, Pesos = [0.26, -0.04800000000000003, 0.076]\n",
            "Dato número: 5: Referencia = 1, Error = 0, Pesos = [0.26, -0.04800000000000003, 0.076]\n",
            "Dato número: 6: Referencia = 1, Error = -2, Pesos = [0.24000000000000002, -0.16200000000000003, -0.008000000000000007]\n",
            "Dato número: 7: Referencia = -1, Error = 0, Pesos = [0.24000000000000002, -0.16200000000000003, -0.008000000000000007]\n",
            "Dato número: 8: Referencia = -1, Error = 0, Pesos = [0.24000000000000002, -0.16200000000000003, -0.008000000000000007]\n",
            "Dato número: 9: Referencia = -1, Error = 0, Pesos = [0.24000000000000002, -0.16200000000000003, -0.008000000000000007]\n",
            "Dato número: 10: Referencia = -1, Error = 0, Pesos = [0.24000000000000002, -0.16200000000000003, -0.008000000000000007]\n"
          ]
        }
      ]
    },
    {
      "cell_type": "markdown",
      "source": [
        "***Resultados del entrenamiento***"
      ],
      "metadata": {
        "id": "4dtTSvPp-iwn"
      }
    },
    {
      "cell_type": "code",
      "source": [
        "print('w0= ', pesos[0])\n",
        "print('w1= ', pesos[1])\n",
        "print('w2= ', pesos[2])"
      ],
      "metadata": {
        "colab": {
          "base_uri": "https://localhost:8080/"
        },
        "id": "6PLOXF2D-ii1",
        "outputId": "1b4cfffb-83ef-42f0-c4f9-5519ac92c99b"
      },
      "execution_count": null,
      "outputs": [
        {
          "output_type": "stream",
          "name": "stdout",
          "text": [
            "w0=  0.24000000000000002\n",
            "w1=  -0.16200000000000003\n",
            "w2=  -0.008000000000000007\n"
          ]
        }
      ]
    }
  ]
}