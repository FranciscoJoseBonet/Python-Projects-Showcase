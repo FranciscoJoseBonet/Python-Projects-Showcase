{
  "nbformat": 4,
  "nbformat_minor": 0,
  "metadata": {
    "colab": {
      "provenance": []
    },
    "kernelspec": {
      "name": "python3",
      "display_name": "Python 3"
    },
    "language_info": {
      "name": "python"
    }
  },
  "cells": [
    {
      "cell_type": "markdown",
      "source": [
        "<div class='alert alert-success text-center'>\n",
        "  <h1>Training a Perceptron</h1>\n",
        "</div>"
      ],
      "metadata": {
        "id": "SqUwSYxM6d74"
      }
    },
    {
      "cell_type": "markdown",
      "source": [
        "***Defining Functions, Parameters, and Preparing Data***"
      ],
      "metadata": {
        "id": "3c0PbroD6VmF"
      }
    },
    {
      "cell_type": "code",
      "execution_count": null,
      "metadata": {
        "id": "wCUVSVvR5DQ1"
      },
      "outputs": [],
      "source": [
        "# Initial Parameters\n",
        "weights = [0.2, -0.33, 0.05]\n",
        "learning_rate = 0.01\n",
        "epochs = 2\n",
        "\n",
        "# Activation Function:\n",
        "def activation_function(x):\n",
        "    return 1 if x > 0 else -1\n",
        "\n",
        "# Map the output classes 'setosa' and 'versicolor' to 1 and -1 respectively\n",
        "mapping = {'setosa': 1, 'versicolor': -1}\n",
        "\n",
        "# Create a dictionary with training data\n",
        "training_data = {\n",
        "    'Sepal Length (cm)': [5.1, 4.9, 4.7, 4.6, 5.0, 5.7, 6.2, 5.7, 5.1, 5.7],\n",
        "    'Petal Length (cm)': [1.4, 1.4, 1.3, 1.5, 1.4, 4.2, 4.3, 4.5, 3.0, 4.1],\n",
        "    'Class': ['setosa', 'setosa', 'setosa', 'setosa', 'setosa', 'versicolor', 'versicolor', 'versicolor', 'versicolor', 'versicolor']\n",
        "}\n",
        "\n",
        "# Create the list for training based on the dictionary information:\n",
        "# (The first element is 1 for the bias)\n",
        "p = [[1, training_data['Sepal Length (cm)'][i], training_data['Petal Length (cm)'][i]] for i in range(len(training_data['Sepal Length (cm)']))]  # INPUTS\n",
        "\n",
        "# Map the classes to their corresponding values in the dictionary\n",
        "q = [mapping[cls] for cls in training_data['Class']]  # OUTPUTS\n",
        "\n"
      ]
    },
    {
      "cell_type": "markdown",
      "source": [
        "***Training***"
      ],
      "metadata": {
        "id": "vY6Va2A47ZL4"
      }
    },
    {
      "cell_type": "code",
      "source": [
        "for epoch in range(epochs):\n",
        "    print(f'\\nEpoch: {epoch + 1}')\n",
        "    for i, x in enumerate(p):\n",
        "        linear_output = sum(w * xi for w, xi in zip(weights, x))  # Compute the perceptron output for each element with given weights and bias\n",
        "        response = activation_function(linear_output)  # Apply the activation function to the perceptron output\n",
        "        error = q[i] - response\n",
        "        if error != 0:  # Check for any error\n",
        "            weights = [w + learning_rate * error * xi for w, xi in zip(weights, x)]  # Update weights if there is an error\n",
        "        print(f\"Data point number: {i + 1}: Reference = {response}, Error = {error}, Weights = {weights}\")\n"
      ],
      "metadata": {
        "colab": {
          "base_uri": "https://localhost:8080/"
        },
        "id": "fqIOYIM-6HMS",
        "outputId": "5e64e7b4-9c2f-4e62-cc9c-16e891d48c36"
      },
      "execution_count": null,
      "outputs": [
        {
          "output_type": "stream",
          "name": "stdout",
          "text": [
            "\n",
            "Epoch: 1\n",
            "Data point number: 1: Reference = -1, Error = 2, Weights = [0.22, -0.22800000000000004, 0.078]\n",
            "Data point number: 2: Reference = -1, Error = 2, Weights = [0.24, -0.13000000000000003, 0.106]\n",
            "Data point number: 3: Reference = -1, Error = 2, Weights = [0.26, -0.03600000000000003, 0.132]\n",
            "Data point number: 4: Reference = 1, Error = 0, Weights = [0.26, -0.03600000000000003, 0.132]\n",
            "Data point number: 5: Reference = 1, Error = 0, Weights = [0.26, -0.03600000000000003, 0.132]\n",
            "Data point number: 6: Reference = 1, Error = -2, Weights = [0.24000000000000002, -0.15000000000000002, 0.048]\n",
            "Data point number: 7: Reference = -1, Error = 0, Weights = [0.24000000000000002, -0.15000000000000002, 0.048]\n",
            "Data point number: 8: Reference = -1, Error = 0, Weights = [0.24000000000000002, -0.15000000000000002, 0.048]\n",
            "Data point number: 9: Reference = -1, Error = 0, Weights = [0.24000000000000002, -0.15000000000000002, 0.048]\n",
            "Data point number: 10: Reference = -1, Error = 0, Weights = [0.24000000000000002, -0.15000000000000002, 0.048]\n",
            "\n",
            "Epoch: 2\n",
            "Data point number: 1: Reference = -1, Error = 2, Weights = [0.26, -0.04800000000000003, 0.076]\n",
            "Data point number: 2: Reference = 1, Error = 0, Weights = [0.26, -0.04800000000000003, 0.076]\n",
            "Data point number: 3: Reference = 1, Error = 0, Weights = [0.26, -0.04800000000000003, 0.076]\n",
            "Data point number: 4: Reference = 1, Error = 0, Weights = [0.26, -0.04800000000000003, 0.076]\n",
            "Data point number: 5: Reference = 1, Error = 0, Weights = [0.26, -0.04800000000000003, 0.076]\n",
            "Data point number: 6: Reference = 1, Error = -2, Weights = [0.24000000000000002, -0.16200000000000003, -0.008000000000000007]\n",
            "Data point number: 7: Reference = -1, Error = 0, Weights = [0.24000000000000002, -0.16200000000000003, -0.008000000000000007]\n",
            "Data point number: 8: Reference = -1, Error = 0, Weights = [0.24000000000000002, -0.16200000000000003, -0.008000000000000007]\n",
            "Data point number: 9: Reference = -1, Error = 0, Weights = [0.24000000000000002, -0.16200000000000003, -0.008000000000000007]\n",
            "Data point number: 10: Reference = -1, Error = 0, Weights = [0.24000000000000002, -0.16200000000000003, -0.008000000000000007]\n"
          ]
        }
      ]
    },
    {
      "cell_type": "markdown",
      "source": [
        "***Training Results***"
      ],
      "metadata": {
        "id": "4dtTSvPp-iwn"
      }
    },
    {
      "cell_type": "code",
      "source": [
        "print('w0= ', weights[0])\n",
        "print('w1= ', weights[1])\n",
        "print('w2= ', weights[2])"
      ],
      "metadata": {
        "colab": {
          "base_uri": "https://localhost:8080/"
        },
        "id": "6PLOXF2D-ii1",
        "outputId": "1b4cfffb-83ef-42f0-c4f9-5519ac92c99b"
      },
      "execution_count": null,
      "outputs": [
        {
          "output_type": "stream",
          "name": "stdout",
          "text": [
            "w0=  0.24000000000000002\n",
            "w1=  -0.16200000000000003\n",
            "w2=  -0.008000000000000007\n"
          ]
        }
      ]
    }
  ]
}
